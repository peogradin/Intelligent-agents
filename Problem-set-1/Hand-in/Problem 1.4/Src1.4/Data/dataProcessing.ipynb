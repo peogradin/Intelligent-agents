{
 "cells": [
  {
   "cell_type": "code",
   "execution_count": 2,
   "metadata": {},
   "outputs": [],
   "source": [
    "import os\n",
    "import requests\n",
    "import zipfile\n",
    "import xml.etree.ElementTree as ET\n",
    "import re"
   ]
  },
  {
   "cell_type": "code",
   "execution_count": null,
   "metadata": {},
   "outputs": [
    {
     "name": "stdout",
     "output_type": "stream",
     "text": [
      "✅ Sparat rensade dialoger i cleaned_movie_dialogues.txt\n"
     ]
    }
   ],
   "source": [
    "import re\n",
    "\n",
    "LINES_FILE = \"movie_lines.txt\"\n",
    "CONVERSATIONS_FILE = \"movie_conversations.txt\"\n",
    "OUTPUT_FILE = \"cleaned_movie_dialogues.txt\"\n",
    "\n",
    "def load_lines(file_path):\n",
    "    \"\"\" Läser in repliker och skapar en ordbok {LID: text} \"\"\"\n",
    "    line_dict = {}\n",
    "    with open(file_path, \"r\", encoding=\"utf-8\", errors=\"ignore\") as f:\n",
    "        for line in f:\n",
    "            parts = line.strip().split(\" +++$+++ \")\n",
    "            if len(parts) == 5:\n",
    "                line_id, text = parts[0], parts[4]\n",
    "                line_dict[line_id] = text\n",
    "    return line_dict\n",
    "\n",
    "def extract_conversations(lines_dict, file_path, output_file):\n",
    "    \"\"\" Läser in `movie_conversations.txt`, ersätter LIDs med repliker och sparar ren text \"\"\"\n",
    "    with open(file_path, \"r\", encoding=\"utf-8\", errors=\"ignore\") as f, open(output_file, \"w\", encoding=\"utf-8\") as out:\n",
    "        for line in f:\n",
    "            parts = line.strip().split(\" +++$+++ \")\n",
    "            if len(parts) == 4:\n",
    "                line_ids = eval(parts[3]) \n",
    "                conversation = \" \".join(lines_dict.get(lid, \"\") for lid in line_ids)\n",
    "                cleaned_text = re.sub(r\"[^A-Za-z0-9.,!?;:\\'\\\" ]+\", \" \", conversation) \n",
    "                out.write(cleaned_text.lower() + \"\\n\") \n",
    "\n",
    "    print(f\"Saved in {output_file}\")\n",
    "\n",
    "\n",
    "lines_dict = load_lines(LINES_FILE)\n",
    "extract_conversations(lines_dict, CONVERSATIONS_FILE, OUTPUT_FILE)\n"
   ]
  },
  {
   "cell_type": "code",
   "execution_count": null,
   "metadata": {},
   "outputs": [
    {
     "name": "stdout",
     "output_type": "stream",
     "text": [
      "✅ Sparat rensad Gutenberg-text i cleaned_gutenberg.txt\n"
     ]
    }
   ],
   "source": [
    "import os\n",
    "import re\n",
    "\n",
    "GUTENBERG_DIR = \"gutenberg_books\"\n",
    "CLEANED_GUTENBERG_FILE = \"cleaned_gutenberg.txt\"\n",
    "MOVIE_DIALOGUES_FILE = \"cleaned_movie_dialogues.txt\"\n",
    "FINAL_OUTPUT_FILE = \"final_corpus.txt\"\n",
    "\n",
    "def clean_text(text):\n",
    "    \"\"\" Tar bort Gutenberg-metadata, specialtecken och konverterar till lowercase. \"\"\"\n",
    "    text = re.sub(r\"\\*\\*\\* START OF THIS PROJECT GUTENBERG.*?\\*\\*\\*\", \"\", text, flags=re.DOTALL)\n",
    "    text = re.sub(r\"\\*\\*\\* END OF THIS PROJECT GUTENBERG.*?\\*\\*\\*\", \"\", text, flags=re.DOTALL)\n",
    "    text = re.sub(r\"[^A-Za-z0-9.,!?;:\\'\\\" ]+\", \" \", text) \n",
    "    text = re.sub(r'\\s+', ' ', text).strip() \n",
    "    return text.lower()\n",
    "\n",
    "def process_gutenberg_books():\n",
    "    \"\"\" Läser in och rensar alla böcker i `gutenberg_books/`, sparar dem i `cleaned_gutenberg.txt`. \"\"\"\n",
    "    all_texts = []\n",
    "\n",
    "    for filename in os.listdir(GUTENBERG_DIR):\n",
    "        if filename.endswith(\".txt\"):\n",
    "            file_path = os.path.join(GUTENBERG_DIR, filename)\n",
    "            with open(file_path, \"r\", encoding=\"utf-8\") as f:\n",
    "                raw_text = f.read()\n",
    "                cleaned_text = clean_text(raw_text)\n",
    "                all_texts.append(cleaned_text)\n",
    "\n",
    "    with open(CLEANED_GUTENBERG_FILE, \"w\", encoding=\"utf-8\") as f:\n",
    "        f.write(\"\\n\".join(all_texts))\n",
    "\n",
    "    print(f\"✅ Sparat rensad Gutenberg-text i {CLEANED_GUTENBERG_FILE}\")\n",
    "\n",
    "process_gutenberg_books()"
   ]
  },
  {
   "cell_type": "code",
   "execution_count": null,
   "metadata": {},
   "outputs": [
    {
     "name": "stdout",
     "output_type": "stream",
     "text": [
      "✅ Sparat slutlig dataset i final_corpus.txt\n"
     ]
    }
   ],
   "source": [
    "def merge_cleaned_files():\n",
    "    with open(CLEANED_GUTENBERG_FILE, \"r\", encoding=\"utf-8\") as gutenberg, \\\n",
    "         open(MOVIE_DIALOGUES_FILE, \"r\", encoding=\"utf-8\") as movies, \\\n",
    "         open(FINAL_OUTPUT_FILE, \"w\", encoding=\"utf-8\") as final_file:\n",
    "        \n",
    "\n",
    "        final_file.write(gutenberg.read() + \"\\n\")\n",
    "\n",
    "        final_file.write(movies.read() + \"\\n\")\n",
    "\n",
    "    print(f\"✅ Sparat slutlig dataset i {FINAL_OUTPUT_FILE}\")\n",
    "\n",
    "merge_cleaned_files()"
   ]
  },
  {
   "cell_type": "code",
   "execution_count": null,
   "metadata": {},
   "outputs": [],
   "source": []
  }
 ],
 "metadata": {
  "kernelspec": {
   "display_name": "Python 3",
   "language": "python",
   "name": "python3"
  },
  "language_info": {
   "codemirror_mode": {
    "name": "ipython",
    "version": 3
   },
   "file_extension": ".py",
   "mimetype": "text/x-python",
   "name": "python",
   "nbconvert_exporter": "python",
   "pygments_lexer": "ipython3",
   "version": "3.10.11"
  }
 },
 "nbformat": 4,
 "nbformat_minor": 2
}
