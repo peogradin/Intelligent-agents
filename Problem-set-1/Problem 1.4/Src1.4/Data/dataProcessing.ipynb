{
 "cells": [
  {
   "cell_type": "code",
   "execution_count": 2,
   "metadata": {},
   "outputs": [],
   "source": [
    "import os\n",
    "import requests\n",
    "import zipfile\n",
    "import xml.etree.ElementTree as ET\n",
    "import re"
   ]
  },
  {
   "cell_type": "code",
   "execution_count": 3,
   "metadata": {},
   "outputs": [
    {
     "name": "stdout",
     "output_type": "stream",
     "text": [
      "✅ Sparat rensade dialoger i cleaned_movie_dialogues.txt\n"
     ]
    }
   ],
   "source": [
    "import re\n",
    "\n",
    "# Ange filnamn\n",
    "LINES_FILE = \"movie_lines.txt\"\n",
    "CONVERSATIONS_FILE = \"movie_conversations.txt\"\n",
    "OUTPUT_FILE = \"cleaned_movie_dialogues.txt\"\n",
    "\n",
    "def load_lines(file_path):\n",
    "    \"\"\" Läser in repliker och skapar en ordbok {LID: text} \"\"\"\n",
    "    line_dict = {}\n",
    "    with open(file_path, \"r\", encoding=\"utf-8\", errors=\"ignore\") as f:\n",
    "        for line in f:\n",
    "            parts = line.strip().split(\" +++$+++ \")\n",
    "            if len(parts) == 5:\n",
    "                line_id, text = parts[0], parts[4]\n",
    "                line_dict[line_id] = text\n",
    "    return line_dict\n",
    "\n",
    "def extract_conversations(lines_dict, file_path, output_file):\n",
    "    \"\"\" Läser in `movie_conversations.txt`, ersätter LIDs med repliker och sparar ren text \"\"\"\n",
    "    with open(file_path, \"r\", encoding=\"utf-8\", errors=\"ignore\") as f, open(output_file, \"w\", encoding=\"utf-8\") as out:\n",
    "        for line in f:\n",
    "            parts = line.strip().split(\" +++$+++ \")\n",
    "            if len(parts) == 4:\n",
    "                line_ids = eval(parts[3])  # Konvertera sträng till lista ['L194', 'L195']\n",
    "                conversation = \" \".join(lines_dict.get(lid, \"\") for lid in line_ids)\n",
    "                cleaned_text = re.sub(r\"[^A-Za-z0-9.,!?;:\\'\\\" ]+\", \" \", conversation)  # Rensa text\n",
    "                out.write(cleaned_text.lower() + \"\\n\")  # Konvertera till lowercase och spara\n",
    "\n",
    "    print(f\"✅ Sparat rensade dialoger i {output_file}\")\n",
    "\n",
    "# Kör skriptet\n",
    "lines_dict = load_lines(LINES_FILE)\n",
    "extract_conversations(lines_dict, CONVERSATIONS_FILE, OUTPUT_FILE)\n"
   ]
  }
 ],
 "metadata": {
  "kernelspec": {
   "display_name": "Python 3",
   "language": "python",
   "name": "python3"
  },
  "language_info": {
   "codemirror_mode": {
    "name": "ipython",
    "version": 3
   },
   "file_extension": ".py",
   "mimetype": "text/x-python",
   "name": "python",
   "nbconvert_exporter": "python",
   "pygments_lexer": "ipython3",
   "version": "3.10.11"
  }
 },
 "nbformat": 4,
 "nbformat_minor": 2
}
