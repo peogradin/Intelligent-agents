{
  "nbformat": 4,
  "nbformat_minor": 0,
  "metadata": {
    "colab": {
      "provenance": []
    },
    "kernelspec": {
      "name": "python3",
      "display_name": "Python 3"
    },
    "language_info": {
      "name": "python"
    }
  },
  "cells": [
    {
      "cell_type": "code",
      "execution_count": null,
      "metadata": {
        "colab": {
          "base_uri": "https://localhost:8080/"
        },
        "id": "MVFl_mUo812r",
        "outputId": "2bcbfe0d-2401-468e-c390-90603812608f"
      },
      "outputs": [
        {
          "output_type": "stream",
          "name": "stderr",
          "text": [
            "[nltk_data] Downloading package averaged_perceptron_tagger to\n",
            "[nltk_data]     /root/nltk_data...\n",
            "[nltk_data]   Package averaged_perceptron_tagger is already up-to-\n",
            "[nltk_data]       date!\n",
            "[nltk_data] Downloading package universal_tagset to /root/nltk_data...\n",
            "[nltk_data]   Package universal_tagset is already up-to-date!\n"
          ]
        },
        {
          "output_type": "execute_result",
          "data": {
            "text/plain": [
              "True"
            ]
          },
          "metadata": {},
          "execution_count": 51
        }
      ],
      "source": [
        "import nltk\n",
        "nltk.download('averaged_perceptron_tagger')\n",
        "nltk.download('universal_tagset')"
      ]
    },
    {
      "cell_type": "code",
      "source": [
        "from google.colab import files\n",
        "uploaded = files.upload()"
      ],
      "metadata": {
        "id": "LhuAaBoY_Mdh",
        "colab": {
          "base_uri": "https://localhost:8080/",
          "height": 108
        },
        "outputId": "06fde37c-dd53-4f07-c443-e7b86c0d6b30"
      },
      "execution_count": null,
      "outputs": [
        {
          "output_type": "display_data",
          "data": {
            "text/plain": [
              "<IPython.core.display.HTML object>"
            ],
            "text/html": [
              "\n",
              "     <input type=\"file\" id=\"files-27dbe640-8f73-4857-b88f-ab6e52fd5237\" name=\"files[]\" multiple disabled\n",
              "        style=\"border:none\" />\n",
              "     <output id=\"result-27dbe640-8f73-4857-b88f-ab6e52fd5237\">\n",
              "      Upload widget is only available when the cell has been executed in the\n",
              "      current browser session. Please rerun this cell to enable.\n",
              "      </output>\n",
              "      <script>// Copyright 2017 Google LLC\n",
              "//\n",
              "// Licensed under the Apache License, Version 2.0 (the \"License\");\n",
              "// you may not use this file except in compliance with the License.\n",
              "// You may obtain a copy of the License at\n",
              "//\n",
              "//      http://www.apache.org/licenses/LICENSE-2.0\n",
              "//\n",
              "// Unless required by applicable law or agreed to in writing, software\n",
              "// distributed under the License is distributed on an \"AS IS\" BASIS,\n",
              "// WITHOUT WARRANTIES OR CONDITIONS OF ANY KIND, either express or implied.\n",
              "// See the License for the specific language governing permissions and\n",
              "// limitations under the License.\n",
              "\n",
              "/**\n",
              " * @fileoverview Helpers for google.colab Python module.\n",
              " */\n",
              "(function(scope) {\n",
              "function span(text, styleAttributes = {}) {\n",
              "  const element = document.createElement('span');\n",
              "  element.textContent = text;\n",
              "  for (const key of Object.keys(styleAttributes)) {\n",
              "    element.style[key] = styleAttributes[key];\n",
              "  }\n",
              "  return element;\n",
              "}\n",
              "\n",
              "// Max number of bytes which will be uploaded at a time.\n",
              "const MAX_PAYLOAD_SIZE = 100 * 1024;\n",
              "\n",
              "function _uploadFiles(inputId, outputId) {\n",
              "  const steps = uploadFilesStep(inputId, outputId);\n",
              "  const outputElement = document.getElementById(outputId);\n",
              "  // Cache steps on the outputElement to make it available for the next call\n",
              "  // to uploadFilesContinue from Python.\n",
              "  outputElement.steps = steps;\n",
              "\n",
              "  return _uploadFilesContinue(outputId);\n",
              "}\n",
              "\n",
              "// This is roughly an async generator (not supported in the browser yet),\n",
              "// where there are multiple asynchronous steps and the Python side is going\n",
              "// to poll for completion of each step.\n",
              "// This uses a Promise to block the python side on completion of each step,\n",
              "// then passes the result of the previous step as the input to the next step.\n",
              "function _uploadFilesContinue(outputId) {\n",
              "  const outputElement = document.getElementById(outputId);\n",
              "  const steps = outputElement.steps;\n",
              "\n",
              "  const next = steps.next(outputElement.lastPromiseValue);\n",
              "  return Promise.resolve(next.value.promise).then((value) => {\n",
              "    // Cache the last promise value to make it available to the next\n",
              "    // step of the generator.\n",
              "    outputElement.lastPromiseValue = value;\n",
              "    return next.value.response;\n",
              "  });\n",
              "}\n",
              "\n",
              "/**\n",
              " * Generator function which is called between each async step of the upload\n",
              " * process.\n",
              " * @param {string} inputId Element ID of the input file picker element.\n",
              " * @param {string} outputId Element ID of the output display.\n",
              " * @return {!Iterable<!Object>} Iterable of next steps.\n",
              " */\n",
              "function* uploadFilesStep(inputId, outputId) {\n",
              "  const inputElement = document.getElementById(inputId);\n",
              "  inputElement.disabled = false;\n",
              "\n",
              "  const outputElement = document.getElementById(outputId);\n",
              "  outputElement.innerHTML = '';\n",
              "\n",
              "  const pickedPromise = new Promise((resolve) => {\n",
              "    inputElement.addEventListener('change', (e) => {\n",
              "      resolve(e.target.files);\n",
              "    });\n",
              "  });\n",
              "\n",
              "  const cancel = document.createElement('button');\n",
              "  inputElement.parentElement.appendChild(cancel);\n",
              "  cancel.textContent = 'Cancel upload';\n",
              "  const cancelPromise = new Promise((resolve) => {\n",
              "    cancel.onclick = () => {\n",
              "      resolve(null);\n",
              "    };\n",
              "  });\n",
              "\n",
              "  // Wait for the user to pick the files.\n",
              "  const files = yield {\n",
              "    promise: Promise.race([pickedPromise, cancelPromise]),\n",
              "    response: {\n",
              "      action: 'starting',\n",
              "    }\n",
              "  };\n",
              "\n",
              "  cancel.remove();\n",
              "\n",
              "  // Disable the input element since further picks are not allowed.\n",
              "  inputElement.disabled = true;\n",
              "\n",
              "  if (!files) {\n",
              "    return {\n",
              "      response: {\n",
              "        action: 'complete',\n",
              "      }\n",
              "    };\n",
              "  }\n",
              "\n",
              "  for (const file of files) {\n",
              "    const li = document.createElement('li');\n",
              "    li.append(span(file.name, {fontWeight: 'bold'}));\n",
              "    li.append(span(\n",
              "        `(${file.type || 'n/a'}) - ${file.size} bytes, ` +\n",
              "        `last modified: ${\n",
              "            file.lastModifiedDate ? file.lastModifiedDate.toLocaleDateString() :\n",
              "                                    'n/a'} - `));\n",
              "    const percent = span('0% done');\n",
              "    li.appendChild(percent);\n",
              "\n",
              "    outputElement.appendChild(li);\n",
              "\n",
              "    const fileDataPromise = new Promise((resolve) => {\n",
              "      const reader = new FileReader();\n",
              "      reader.onload = (e) => {\n",
              "        resolve(e.target.result);\n",
              "      };\n",
              "      reader.readAsArrayBuffer(file);\n",
              "    });\n",
              "    // Wait for the data to be ready.\n",
              "    let fileData = yield {\n",
              "      promise: fileDataPromise,\n",
              "      response: {\n",
              "        action: 'continue',\n",
              "      }\n",
              "    };\n",
              "\n",
              "    // Use a chunked sending to avoid message size limits. See b/62115660.\n",
              "    let position = 0;\n",
              "    do {\n",
              "      const length = Math.min(fileData.byteLength - position, MAX_PAYLOAD_SIZE);\n",
              "      const chunk = new Uint8Array(fileData, position, length);\n",
              "      position += length;\n",
              "\n",
              "      const base64 = btoa(String.fromCharCode.apply(null, chunk));\n",
              "      yield {\n",
              "        response: {\n",
              "          action: 'append',\n",
              "          file: file.name,\n",
              "          data: base64,\n",
              "        },\n",
              "      };\n",
              "\n",
              "      let percentDone = fileData.byteLength === 0 ?\n",
              "          100 :\n",
              "          Math.round((position / fileData.byteLength) * 100);\n",
              "      percent.textContent = `${percentDone}% done`;\n",
              "\n",
              "    } while (position < fileData.byteLength);\n",
              "  }\n",
              "\n",
              "  // All done.\n",
              "  yield {\n",
              "    response: {\n",
              "      action: 'complete',\n",
              "    }\n",
              "  };\n",
              "}\n",
              "\n",
              "scope.google = scope.google || {};\n",
              "scope.google.colab = scope.google.colab || {};\n",
              "scope.google.colab._files = {\n",
              "  _uploadFiles,\n",
              "  _uploadFilesContinue,\n",
              "};\n",
              "})(self);\n",
              "</script> "
            ]
          },
          "metadata": {}
        },
        {
          "output_type": "stream",
          "name": "stdout",
          "text": [
            "Saving BrownCorpus.txt to BrownCorpus (1).txt\n",
            "Saving BrownToUniversalTagMap.txt to BrownToUniversalTagMap (1).txt\n"
          ]
        }
      ]
    },
    {
      "cell_type": "code",
      "source": [
        "def load_pos_corpus(filename):\n",
        "  with open(filename, 'r', encoding='utf-8') as f:\n",
        "    lines = f.readlines()\n",
        "\n",
        "  sentences = []\n",
        "  token_count = 0\n",
        "\n",
        "  for line in lines:\n",
        "    line = line.strip()\n",
        "\n",
        "    if line:\n",
        "      tokens = line.split()\n",
        "      sentence = []\n",
        "\n",
        "      for token in tokens:\n",
        "        spelling, tag = token.rsplit('_', 1)\n",
        "        spelling = spelling.strip().lower()\n",
        "        tag = tag.strip()\n",
        "\n",
        "        if len(tag) == 1 or (len(tag) > 1 and tag[1] != '|'):\n",
        "          sentence.append((spelling, tag))\n",
        "          token_count += 1\n",
        "\n",
        "      sentences.append(sentence)\n",
        "  print(f\"Loaded Brown Corpus with {token_count} tokens\")\n",
        "  return sentences\n",
        "\n",
        "brown_corpus = load_pos_corpus(\"BrownCorpus.txt\")"
      ],
      "metadata": {
        "colab": {
          "base_uri": "https://localhost:8080/"
        },
        "id": "jCAw5212CkBs",
        "outputId": "6e694b83-ed37-42ce-c820-0871825e92fd"
      },
      "execution_count": null,
      "outputs": [
        {
          "output_type": "stream",
          "name": "stdout",
          "text": [
            "Loaded Brown Corpus with 1137452 tokens\n"
          ]
        }
      ]
    },
    {
      "cell_type": "code",
      "source": [
        "def load_tag_mapping(filename):\n",
        "  with open(filename, 'r', encoding='utf-8') as f:\n",
        "    lines = f.readlines()\n",
        "\n",
        "  tag_mapping = {}\n",
        "\n",
        "  for line in lines:\n",
        "    tags = [t.strip() for t in line.strip().split(\"\\t\") if t.strip()]\n",
        "\n",
        "    if len(tags) == 2:\n",
        "      brown_tag, universal_tag = tags\n",
        "      brown_tag = brown_tag.strip()\n",
        "      universal_tag = universal_tag.strip()\n",
        "\n",
        "      if brown_tag not in tag_mapping:\n",
        "        tag_mapping[brown_tag] = universal_tag\n",
        "      else:\n",
        "        print(\"Skipping malformed line: \" + line) #debug\n",
        "\n",
        "  print(f\"Loaded Brown to Universal tag mapping with {len(tag_mapping)} tag pairs\")\n",
        "  return tag_mapping\n",
        "\n",
        "brown_to_universal_tag_mapping = load_tag_mapping(\"BrownToUniversalTagMap.txt\")"
      ],
      "metadata": {
        "colab": {
          "base_uri": "https://localhost:8080/"
        },
        "id": "rpCB3dToQQy3",
        "outputId": "b9b382a8-ff88-4aef-e88a-8e2eb6aae79d"
      },
      "execution_count": null,
      "outputs": [
        {
          "output_type": "stream",
          "name": "stdout",
          "text": [
            "Loaded Brown to Universal tag mapping with 478 tag pairs\n"
          ]
        }
      ]
    },
    {
      "cell_type": "code",
      "source": [
        "def convert_pos_tags(tag_mapping, sentences):\n",
        "\n",
        "  converted_sentences = []\n",
        "\n",
        "  for sentence in sentences:\n",
        "    converted_sentence = []\n",
        "\n",
        "    for word, brown_tag in sentence:\n",
        "      universal_tag = tag_mapping.get(brown_tag, 'UNKNOWN')\n",
        "      converted_sentence.append((word, universal_tag))\n",
        "\n",
        "    converted_sentences.append(converted_sentence)\n",
        "\n",
        "  return converted_sentences\n",
        "\n",
        "universal_corpus = convert_pos_tags(brown_to_universal_tag_mapping, brown_corpus)\n",
        "print(\"Converted tags from Brown to universal\")"
      ],
      "metadata": {
        "colab": {
          "base_uri": "https://localhost:8080/"
        },
        "id": "kedJosRLkbBW",
        "outputId": "f59c8c0e-41bc-458c-ecde-d2185de9680b"
      },
      "execution_count": null,
      "outputs": [
        {
          "output_type": "stream",
          "name": "stdout",
          "text": [
            "Converted tags from Brown to universal\n"
          ]
        }
      ]
    },
    {
      "cell_type": "code",
      "source": [
        "def split_data_set(data_set, split_fraction = 0.8):\n",
        "\n",
        "  split_index = int(len(data_set)*split_fraction)\n",
        "  training_data_set = data_set[:split_index]\n",
        "  test_data_set = data_set[split_index:]\n",
        "\n",
        "  return training_data_set, test_data_set\n",
        "\n",
        "training_data_set, test_data_set = split_data_set(universal_corpus)\n",
        "print(f\"Data set split with {len(training_data_set)} training sentences and {len(test_data_set)} test sentences\")"
      ],
      "metadata": {
        "colab": {
          "base_uri": "https://localhost:8080/"
        },
        "id": "DQw938zniDSQ",
        "outputId": "04dddd78-32f8-4cc4-aa12-b66646547fc8"
      },
      "execution_count": null,
      "outputs": [
        {
          "output_type": "stream",
          "name": "stdout",
          "text": [
            "Data set split with 45282 training sentences and 11321 test sentences\n"
          ]
        }
      ]
    },
    {
      "cell_type": "code",
      "source": [
        "def tokenize_data_set(data_set):\n",
        "  return [[word for word, tag in sentence] for sentence in data_set]\n",
        "\n",
        "tokenized_test_data_set = tokenize_data_set(test_data_set)\n",
        "print(\"Tokenized test data set.\")"
      ],
      "metadata": {
        "colab": {
          "base_uri": "https://localhost:8080/"
        },
        "id": "WmEd1M6KkMfX",
        "outputId": "79d0c463-3ef0-414f-8efe-bb5c972bb48b"
      },
      "execution_count": null,
      "outputs": [
        {
          "output_type": "stream",
          "name": "stdout",
          "text": [
            "Tokenized test data set.\n"
          ]
        }
      ]
    },
    {
      "cell_type": "code",
      "source": [
        "from nltk.tag.perceptron import PerceptronTagger\n",
        "tagger = PerceptronTagger()\n",
        "\n",
        "tagged_sentences = tagger.tag_sents(tokenized_test_data_set)"
      ],
      "metadata": {
        "id": "WY8aOHWsqTqZ"
      },
      "execution_count": null,
      "outputs": []
    },
    {
      "cell_type": "code",
      "source": [
        "from nltk.tag.mapping import map_tag\n",
        "\n",
        "def ptb_to_universal(sentences):\n",
        "\n",
        "  universal_sentences = []\n",
        "\n",
        "  for sentence in sentences:\n",
        "    universal_sentence = [(word, map_tag('en-ptb', 'universal', ptb_tag)) for word, ptb_tag in sentence]\n",
        "    universal_sentences.append(universal_sentence)\n",
        "\n",
        "  return universal_sentences\n",
        "\n",
        "universal_tagged_sentences = ptb_to_universal(tagged_sentences)"
      ],
      "metadata": {
        "id": "lSa_3GLmtNk8"
      },
      "execution_count": null,
      "outputs": []
    },
    {
      "cell_type": "code",
      "source": [
        "def compute_accuracy(predicted_sentences, true_sentences):\n",
        "\n",
        "  correct_tags = 0\n",
        "  total_tags = 0\n",
        "  debug = 0\n",
        "\n",
        "  for predicted_sentence, true_sentence in zip(predicted_sentences, true_sentences):\n",
        "    for (predicted_word, predicted_tag), (true_word, true_tag) in zip(predicted_sentence, true_sentence):\n",
        "      if predicted_tag == true_tag:\n",
        "        correct_tags += 1\n",
        "\n",
        "      total_tags += 1\n",
        "\n",
        "  accuracy = correct_tags/total_tags if total_tags > 0 else 0\n",
        "  print(\"Total number of tags: \", total_tags)\n",
        "  print(\"Number of correct tags: \", correct_tags)\n",
        "  print(\"Accuracy: \", accuracy)\n",
        "  return accuracy\n",
        "\n",
        "accuracy = compute_accuracy(universal_tagged_sentences, test_data_set)\n"
      ],
      "metadata": {
        "colab": {
          "base_uri": "https://localhost:8080/"
        },
        "id": "MgRxfjUTxg8o",
        "outputId": "f72f0470-7424-4349-9749-79229c4ddc67"
      },
      "execution_count": null,
      "outputs": [
        {
          "output_type": "stream",
          "name": "stdout",
          "text": [
            "Total number of tags:  174495\n",
            "Number of correct tags:  153051\n",
            "Accuracy:  0.8771082265967506\n"
          ]
        }
      ]
    }
  ]
}